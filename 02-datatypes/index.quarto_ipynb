{
  "cells": [
    {
      "cell_type": "markdown",
      "metadata": {},
      "source": [
        "---\n",
        "title: \"Data Types\"\n",
        "subtitle: \"int, float, str, bool\"\n",
        "---\n",
        "\n",
        "## Numeric Data Types\n",
        "::: {.callout-note title=\"Read _Inferential Thinking_\"}\n",
        " Read [Ch 4 intro](https://inferentialthinking.com/chapters/04/Data_Types.html) and [Ch 4.1](https://inferentialthinking.com/chapters/04/1/Numbers.html), which describes in detail how Python evaluates expressions involving **numeric data types**.\n",
        "\n",
        " Before continuing, make sure you understand the following:\n",
        "\n",
        " * Every value has a type (**data type**), and the built-in type function returns the type of the result of any expression.\n",
        " * In Python, integers are called `int` values. Real numbers are called `float` values. These are flexible but have some computational limitations.\n",
        " * The `type` of an expression is the type of its final value.\n",
        " * When a `float` value is combined with an `int` value using some arithmetic operator, then the result is always a `float` value. \n",
        ":::\n",
        "\n",
        "\n",
        "### Summary of Numeric Operators\n",
        "\n",
        "You have seen this table before.\n",
        "\n",
        "|  Operator | Symbol | Example Expression | Expression Value |\n",
        "| --- | --- | --- | --- |\n",
        "| Addition | `+` | `2 + 3` | 5 |\n",
        "| Subtraction | `-` | `15 - 4` | `11` |\n",
        "| Multiplication | `*` | `-2 * 9` | `-18` |\n",
        "| Division | `/` | `15 / 2` | `7.5` |\n",
        "| Integer division | Cuts off remainder | `//` | `15 // 2` | `7` |\n",
        "| Remainder/Modulo | `%` | `19 % 3` | `1` <br/> (19 ÷ 3 = 6 Remainder 1) |\n",
        "| Exponentiation | `**` | `3 ** 2` | `9` |\n",
        "\n",
        ": Common Python operators for numeric data types\n",
        "\n",
        "## Strings\n",
        "::: {.callout-note title=\"Read _Inferential Thinking_\"}\n",
        " Read [Ch 4.2](https://inferentialthinking.com/chapters/04/2/Strings.html) which describes the **string data type**.\n",
        "\n",
        " Before continuing, make sure you understand the following:\n",
        "\n",
        " * A string is a text data type. It can use single quotes or double quotes.\n",
        " * The meaning of an expression depends both upon its structure and the types of values that are being combined.\n",
        ":::\n",
        "\n",
        " **Concatenation operation**: The `+` operator works differently on string data types. Instead of adding numerically, it \"adds textually,\" which is more formally called **concatenation**:"
      ],
      "id": "6c5378eb"
    },
    {
      "cell_type": "code",
      "metadata": {},
      "source": [
        "2 + 3  # addition"
      ],
      "id": "88a7563f",
      "execution_count": null,
      "outputs": []
    },
    {
      "cell_type": "code",
      "metadata": {},
      "source": [
        "'hello' + \"donuts\""
      ],
      "id": "ef20b1cc",
      "execution_count": null,
      "outputs": []
    },
    {
      "cell_type": "markdown",
      "metadata": {},
      "source": [
        "**Length function**: There is one function not shown above that would be useful to you know, and that is `len(s)`, which takes a string argument and returns its length."
      ],
      "id": "ec2ab940"
    },
    {
      "cell_type": "code",
      "metadata": {},
      "source": [
        "s = \"hello world\"\n",
        "len(s)"
      ],
      "id": "c807eb60",
      "execution_count": null,
      "outputs": []
    },
    {
      "cell_type": "markdown",
      "metadata": {},
      "source": [
        "## Boolean Data Type\n",
        "\n",
        "The Boolean data type (`bool`) has exactly two values: `True` and `False`. Note that boolean values are _not_ strings!"
      ],
      "id": "4a3b2f9b"
    },
    {
      "cell_type": "code",
      "metadata": {},
      "source": [
        "b = True\n",
        "b"
      ],
      "id": "384719cf",
      "execution_count": null,
      "outputs": []
    },
    {
      "cell_type": "code",
      "metadata": {},
      "source": [
        "b = False\n",
        "type(b)"
      ],
      "id": "e4a03d7e",
      "execution_count": null,
      "outputs": []
    },
    {
      "cell_type": "markdown",
      "metadata": {},
      "source": [
        "In our current view of Python as an advanced calculator, it may be unclear why such a special data type is needed. We will find soon that it is very useful to have a special data type to represent whether something is true or false. \n",
        "\n",
        "\n",
        "## Typecasting\n",
        "\n",
        "We can also **typecast**, or convert values between data types. These typecasting functions take in one typed argument and return another typed argument, then return that value as a different type. The function name is generally the type. Note that data type conversion is only valid \"when it makes sense.\" We'll talk about this more later."
      ],
      "id": "90b3f434"
    },
    {
      "cell_type": "code",
      "metadata": {},
      "source": [
        "x = 3       # what type is x?\n",
        "str(x)      # returns a value of type string"
      ],
      "id": "0ba8aa0c",
      "execution_count": null,
      "outputs": []
    },
    {
      "cell_type": "code",
      "metadata": {},
      "source": [
        "s = \"5\"       # what type is x?\n",
        "float(s)      # what type is returned?"
      ],
      "id": "65017b12",
      "execution_count": null,
      "outputs": []
    },
    {
      "cell_type": "markdown",
      "metadata": {},
      "source": [
        "## External Reading\n",
        "\n",
        "* (mentioned in notes) _Computational and Inferential Thinking_, [Ch 4 intro](https://inferentialthinking.com/chapters/04/Data_Types.html), [Ch 4.1](https://inferentialthinking.com/chapters/04/1/Numbers.html), [Ch 4.2](https://inferentialthinking.com/chapters/04/2/Strings.html)\n",
        "* (optional) Tomas Beuzen. _Python Programming for Data Science_ [Ch 1.2](https://www.tomasbeuzen.com/python-programming-for-data-science/chapters/chapter1-basics.html#basic-python-data-types)."
      ],
      "id": "d2b87b73"
    }
  ],
  "metadata": {
    "kernelspec": {
      "name": "python3",
      "language": "python",
      "display_name": "Python 3 (ipykernel)",
      "path": "/Users/yanlisa/Library/Jupyter/kernels/python3"
    }
  },
  "nbformat": 4,
  "nbformat_minor": 5
}