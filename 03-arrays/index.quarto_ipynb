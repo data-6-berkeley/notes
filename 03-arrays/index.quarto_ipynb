{
  "cells": [
    {
      "cell_type": "markdown",
      "metadata": {},
      "source": [
        "---\n",
        "title: \"Arrays\"\n",
        "subtitle: \"Our first data structure\"\n",
        "---\n",
        "\n",
        "This note has the following goals:\n",
        "\n",
        "* Understand what is an array.\n",
        "* Call built-in functions and NumPy functions on arrays.\n",
        "* Access individual elements of an array with indexing\n",
        "\n",
        "We will first learn arrays through analyzing data; then, we will drill into array internals and the nitty-gritty of Python modules and methods. Finally, we will summarize array operations.\n",
        "\n",
        "## Definitions\n",
        "\n",
        "Let us discuss our first data structure in this course: **arrays**. An **array** is a sequential collection of values of a given data type:\n",
        "\n",
        "* sequential: arranged like a line/queue\n",
        "* collection: multiple values organized together. \n",
        "\n",
        "In arrays, each value is called an array **element**.\n",
        "\n",
        "We have previously discussed the idea of tables: a rectangular data structure with rows and columns. We will see today that **arrays are a concise way to manipulate table columns**, because arrays facilitate common data processing that we may want to perform on columns.\n",
        "\n",
        "::: {.callout-note title=\"Read _Inferential Thinking_\"}\n",
        " Read [Ch 5.1](https://inferentialthinking.com/chapters/05/1/Arrays.html), which describes in detail how arrays can be used in arithmetic expressions to compute over their contents.\n",
        " \n",
        " Before continuing, make sure that:\n",
        " \n",
        " * You understand the figure that shows how to convert an array of Celsius temperatures to an array of Farenheit temperatures.\n",
        " \n",
        ":::\n",
        "\n",
        "### Today's dataset\n",
        "\n",
        "The following table is drawn from the American Community Survey (ACS) of 2020. It shows education levels of adults 25 years or higher by state.\n",
        "  \n",
        "| State | Estimated total state population |Estimated high school graduate or higher (%) | Estimated bachelor's degree or higher (%) |\n",
        "| --- | --- | --- | --- |\n",
        "| Alabama | 3,344,006 | 86.9 | 26.2 |\n",
        "| California | 26,665,143 | 83.9 | 34.7 |\n",
        "| Florida | 15,255,326 | 88.5 | 30.5 |\n",
        "| New York | 13,649,157 | 87.2 | 37.5 |\n",
        "| Texas  | 18,449,851 | 84.4 | 30.7 |\n",
        "\n",
        "## Creating arrays\n",
        "\n",
        "Each of these table columns can be represented by an array.\n",
        "\n",
        "Below, we create a new array for the column \"Estimated high school graduate or higher (%)\" and assign the returned array to a single name, `hs_or_higher`. This simple assignment statement is abstraction at work! Also note that the import statement gives us access to array functions with the `datascience` module, including `make_array`, which returns a new array with the provided argument values. "
      ],
      "id": "de5be0e5"
    },
    {
      "cell_type": "code",
      "metadata": {},
      "source": [
        "from datascience import *\n",
        "\n",
        "hs_or_higher = make_array(86.9, 83.9, 88.5, 87.2, 84.4)\n",
        "hs_or_higher"
      ],
      "id": "f7c692cd",
      "execution_count": null,
      "outputs": []
    },
    {
      "cell_type": "markdown",
      "metadata": {},
      "source": [
        "Let's make a few more arrays.\n",
        "\n",
        "The array data type (as shown below) is a bit esoteric for now; we will discuss what NumPy (`np`) is very soon."
      ],
      "id": "0d869807"
    },
    {
      "cell_type": "code",
      "metadata": {},
      "source": [
        "bs_or_higher = make_array(26.2, 34.7, 30.5, 37.5, 30.7)\n",
        "type(bs_or_higher)"
      ],
      "id": "5eb46df1",
      "execution_count": null,
      "outputs": []
    },
    {
      "cell_type": "markdown",
      "metadata": {},
      "source": [
        "When creating the state names array of strings below, what do you observe about the datatype, `dtype`? Hint: Count the number of characters in each string."
      ],
      "id": "bcb1e901"
    },
    {
      "cell_type": "code",
      "metadata": {},
      "source": [
        "states = make_array(\"Alabama\", \"California\", \"Florida\", \"New York\", \"Texas\")\n",
        "states"
      ],
      "id": "d5249193",
      "execution_count": null,
      "outputs": []
    },
    {
      "cell_type": "markdown",
      "metadata": {},
      "source": [
        "When creating the state population array below, why might we decide to make an integer array, as opposed to a string array?"
      ],
      "id": "01c981c3"
    },
    {
      "cell_type": "code",
      "metadata": {},
      "source": [
        "state_pop = make_array(3344006, 26665143, 15255326, 13649157, 18449851)\n",
        "state_pop"
      ],
      "id": "b80aa06d",
      "execution_count": null,
      "outputs": []
    },
    {
      "cell_type": "markdown",
      "metadata": {},
      "source": [
        "::: {.callout-note title=\"More array details\" collapse=\"true\"}\n",
        "The order of an array is fixed (i.e., they will be arranged in the order specified when building the array), and values can be repeated.\n",
        "\n",
        "Array with 4 `int`s:"
      ],
      "id": "15f636f8"
    },
    {
      "cell_type": "code",
      "metadata": {},
      "source": [
        "make_array(5, -1, 0.3, 5)"
      ],
      "id": "c9f411f4",
      "execution_count": null,
      "outputs": []
    },
    {
      "cell_type": "markdown",
      "metadata": {},
      "source": [
        "Values in an array must all be of the same data type, and the `make_array` function will cast appropriately. Below, all values can be represented by strings:"
      ],
      "id": "3b15033e"
    },
    {
      "cell_type": "code",
      "metadata": {},
      "source": [
        "make_array(4, -4.5, \"not a number\")"
      ],
      "id": "284668c4",
      "execution_count": null,
      "outputs": []
    },
    {
      "cell_type": "markdown",
      "metadata": {},
      "source": [
        "Incidentally, we can clean up our code stylistically by makine line breaks after each argument:"
      ],
      "id": "0f4a81f9"
    },
    {
      "cell_type": "code",
      "metadata": {},
      "source": [
        "make_array(\"hello\",\n",
        "           \"world\",\n",
        "           \"!\")"
      ],
      "id": "5d5db66a",
      "execution_count": null,
      "outputs": []
    },
    {
      "cell_type": "markdown",
      "metadata": {},
      "source": [
        ":::\n",
        "\n",
        "## Element-wise arithmetic\n",
        "\n",
        "Arrays allow us to write code that performs **the same operation on many pieces of data at once**. We can therefore easily use arithmetic operations on elements of numeric arrays where it \"makes sense\" (see sidenote).\n",
        "\n",
        "To compute the estimated percentage by state of adults 25 years or higher that have not graduated high school, we can create a new array by performing arithmetic with an **array and a numeric value**:"
      ],
      "id": "cffc3938"
    },
    {
      "cell_type": "code",
      "metadata": {},
      "source": [
        "100 - hs_or_higher"
      ],
      "id": "2bd0d720",
      "execution_count": null,
      "outputs": []
    },
    {
      "cell_type": "markdown",
      "metadata": {},
      "source": [
        "To compute the estimated number by state of adults 25 years or higher with bachelor's degrees, we can create a new array by performing arithmetic with **two arrays**:"
      ],
      "id": "5e171f42"
    },
    {
      "cell_type": "code",
      "metadata": {},
      "source": [
        "bs_or_higher / 100 * state_pop"
      ],
      "id": "82867fb2",
      "execution_count": null,
      "outputs": []
    },
    {
      "cell_type": "markdown",
      "metadata": {},
      "source": [
        "Sidenote: What do I mean by \"makes sense\"? Linear Algebra is a broad mathematical field that forms the foundations of much of data science and tabular data analysis. This element-wise array functionality is derived from the mathematical definitions of vectors and scalars. Take a linear algebra class if you want to learn more!\n",
        "\n",
        "## Indexing\n",
        "\n",
        "When people stand in a line, each person has a position. Similarly, each **element** (i.e., value) of an array has a position – called its **index**. Python, like many programming languages, is **zero-indexed**. This means that in an array, the first element has index 0, not 1.\n",
        "\n",
        "In the `int_arr` array below, the first element (`3`) has index 0; the last element (`2`) has index 4."
      ],
      "id": "b8a82f20"
    },
    {
      "cell_type": "code",
      "metadata": {},
      "source": [
        "int_arr = make_array(3, -4, 0, 5, 2)\n",
        "int_arr"
      ],
      "id": "62dd2897",
      "execution_count": null,
      "outputs": []
    },
    {
      "cell_type": "markdown",
      "metadata": {},
      "source": [
        "### The Array Method `item()`\n",
        "\n",
        "An array **method** is just like a function, but it must operate on an array using **\"dot\" syntax**. So the call looks like:\n",
        "\n",
        "```\n",
        "name_of_array.method(arguments)\n",
        "```\n",
        "\n",
        "We will discuss many more methods once we introduce tables, but for now let's learn our first method to index arrays.\n",
        "\n",
        "We can access an element in an array by using its index and the `item()` method:"
      ],
      "id": "1626cce3"
    },
    {
      "cell_type": "code",
      "metadata": {},
      "source": [
        "int_arr.item(0)"
      ],
      "id": "88eb3e0b",
      "execution_count": null,
      "outputs": []
    },
    {
      "cell_type": "code",
      "metadata": {},
      "source": [
        "int_arr.item(3)"
      ],
      "id": "fbebd1c6",
      "execution_count": null,
      "outputs": []
    },
    {
      "cell_type": "markdown",
      "metadata": {},
      "source": [
        "Because of zero-indexing, the largest valid index is 4 for the five-element `int_arr` array:"
      ],
      "id": "757855b5"
    },
    {
      "cell_type": "code",
      "metadata": {},
      "source": [
        "#| error: true\n",
        "int_arr.item(5)"
      ],
      "id": "8621ff85",
      "execution_count": null,
      "outputs": []
    },
    {
      "cell_type": "markdown",
      "metadata": {},
      "source": [
        "In Python, we can also “count backwards” using **negative indexes**. -1 corresponds to the last element in a array; -2 corresponds to the second last element in a array; and so on."
      ],
      "id": "b02bb76e"
    },
    {
      "cell_type": "code",
      "metadata": {},
      "source": [
        "# functionally equivalent to int_arr.item(4)\n",
        "int_arr.item(-1)"
      ],
      "id": "af2ad353",
      "execution_count": null,
      "outputs": []
    },
    {
      "cell_type": "markdown",
      "metadata": {},
      "source": [
        "## Array Functions\n",
        "\n",
        "As data scientists we may find it useful to perform operations on arrays beyond simple element-wise arithmetic operations. We can do so via a range of functions from different sources.\n",
        "\n",
        "Here are some starter arrays to get us going. What are the resulting arrays created?"
      ],
      "id": "250f0322"
    },
    {
      "cell_type": "code",
      "metadata": {},
      "source": [
        "int_arr = make_array(3, -4, 0, 5, 2)\n",
        "str_arr = make_array(\"cm\", \"m\", \"in\", \"ft\", \"yd\")\n",
        "empty_arr = make_array() # challenge"
      ],
      "id": "edbdf383",
      "execution_count": null,
      "outputs": []
    },
    {
      "cell_type": "markdown",
      "metadata": {},
      "source": [
        "::: {.callout-note title=\"Arrays created\" collapse=\"true\"}"
      ],
      "id": "709d1696"
    },
    {
      "cell_type": "code",
      "metadata": {},
      "source": [
        "int_arr"
      ],
      "id": "5443ec63",
      "execution_count": null,
      "outputs": []
    },
    {
      "cell_type": "code",
      "metadata": {},
      "source": [
        "str_arr"
      ],
      "id": "9fb500af",
      "execution_count": null,
      "outputs": []
    },
    {
      "cell_type": "markdown",
      "metadata": {},
      "source": [
        "An **empty** array is one with no elements:"
      ],
      "id": "c877b049"
    },
    {
      "cell_type": "code",
      "metadata": {},
      "source": [
        "empty_arr"
      ],
      "id": "c7129799",
      "execution_count": null,
      "outputs": []
    },
    {
      "cell_type": "markdown",
      "metadata": {},
      "source": [
        ":::\n",
        "\n",
        "\n",
        "We will describe the syntax and terminology of built-in and NumPy functions below, then provide a table of operations. Here's how we suggest working through this section:\n",
        "\n",
        "1. Don't memorize these functions!\n",
        "1. Instead, remember there are two types of functions for arrays: built-in functions and NumPy functions.\n",
        "1. Get familiar with two tables, copied below. Get familiar with reading this tabl documentation to understand how each function works.\n",
        "1. When writing your programs, look through these functions and see which function(s) can compose your solution.\n",
        "\n",
        "### Built-in functions\n",
        "\n",
        "Some **built-in functions** (i.e., included with Python) can take in arrays as arguments.\n",
        "\n",
        "Here is a table of example built-in functions for arrays. Again, don't memorize the functions. Rather, get familiar with reading and predicting their outputs.\n",
        "\n",
        "| Expression and Return value | Example(s) |\n",
        "| - | - |  \n",
        "| `len(arr)` Length of an array, providing the number of elements it contains. Useful for determining the size of an array dynamically. | `len(str_arr)   # 5` <br/> `len(empty_arr) # 0` | \n",
        "| `max(arr)` The largest value within an array. | `max(int_arr)    # 5` <br/> `max(str_arr)   # 'yd'` |\n",
        "| `min(arr)` The smallest value within an array. | `min(int_arr) ` | \n",
        "| `sum(arr)` Sum of all values in an array. | `sum(int_arr)   # 6` <br/> `sum(str_arr)   # TypeError` |\n",
        "\n",
        ": Built-in Python functions that take in array arguments.\n",
        "\n",
        "\n",
        "::: {.callout-note title=\"Note 1: Argument data types\" collapse=\"true\"}\n",
        "Remember that even though function names can be identical, call expressions can evaluate differently depending on the argument data type.\n",
        " `len(arg)`, for example, returns an integer value indicating the \"length\" of the argument `arg`. If `arg` is a string, it returns the number of characters; if `arg` is an array, it returns the number of elements."
      ],
      "id": "39d9dffa"
    },
    {
      "cell_type": "code",
      "metadata": {},
      "source": [
        "len(str_arr)"
      ],
      "id": "0cfad549",
      "execution_count": null,
      "outputs": []
    },
    {
      "cell_type": "code",
      "metadata": {},
      "source": [
        "len(str_arr.item(0)) # what is the argument here?"
      ],
      "id": "828a6a89",
      "execution_count": null,
      "outputs": []
    },
    {
      "cell_type": "markdown",
      "metadata": {},
      "source": [
        ":::\n",
        "\n",
        "::: {.callout-note title=\"Note 2: Expressions with string arrays\" collapse=\"true\"}\n",
        "As you may have noticed above, calling these functions on strings return some seemingly bizarre values. After all, what does it mean to get the maximum value of an array of strings?\n",
        "\n",
        "Instead of erroring out, the Pythonic convention is to consider alphabetic sorting as a way of ordering elements---hence, `\"yd\"` comes alphabetically after `\"cm\"` and `\"ft\"`, and so on.\n",
        "\n",
        "We will not cover string comparisons in detail in this course. If you are curious about these algorithms, we encourage you to take a Data Structures course!\n",
        ":::\n",
        "\n",
        "\n",
        "Let's use these built-in functions to compute the _average_ (_mean_) value of the below array. We will discuss measures of average much later in this course."
      ],
      "id": "19690b69"
    },
    {
      "cell_type": "code",
      "metadata": {},
      "source": [
        "arr = make_array(30, -40, -4.5, 0, 35)\n",
        "avg = sum(arr)/len(arr)\n",
        "avg"
      ],
      "id": "a2d235a4",
      "execution_count": null,
      "outputs": []
    },
    {
      "cell_type": "markdown",
      "metadata": {},
      "source": [
        "Due to approximations in how the computer stores and operates on floats, the above number is as close to 4.1 (the true numeric average) as we can get with our Python calculator. Take a computer systems or computer architecture course for more information!\n",
        "\n",
        "### NumPy functions\n",
        "\n",
        "NumPy (pronounced \"NUM-pie”) is a Python library with convenient and\n",
        "powerful modules and functions for manipulating arrays. Any time we want to use NumPy, we must write an import statement:"
      ],
      "id": "b61efe7d"
    },
    {
      "cell_type": "code",
      "metadata": {},
      "source": [
        "import numpy as np\n",
        "\n",
        "arr = make_array(30, -40, -4.5, 0, 35)\n",
        "arr"
      ],
      "id": "4872964d",
      "execution_count": null,
      "outputs": []
    },
    {
      "cell_type": "markdown",
      "metadata": {},
      "source": [
        "After putting this statement at the top of our notebook, we can then prepend `np.` to call a NumPy function. The below NumPy function call computes averages much more conveniently than our clever (but verbose) expression with built-in function calls, though it still suffers from floating point approximations:"
      ],
      "id": "244372f3"
    },
    {
      "cell_type": "code",
      "metadata": {},
      "source": [
        "np.average(arr)"
      ],
      "id": "110f26ec",
      "execution_count": null,
      "outputs": []
    },
    {
      "cell_type": "markdown",
      "metadata": {},
      "source": [
        "### NumPy Array Function Table\n",
        "\n",
        "There are many, many types of NumPy array functions; the below table only scratches the surface of what is possible. Again, instead of memorizing functions, we encourage you to learn how to read documentation by considering the following:\n",
        "\n",
        "1. What is the function name? How is this name informed by the function description?\n",
        "1. What is the return value of this function?\n",
        "    * If the data type of the return value is an array, is it the same length as the original array? Is the function therefore operating element-wise on the original array?\n",
        "    * If the data type of the return value is a single value, how is this value computed from the different elements of the original array? \n",
        "1. Is the function changing the contents of the original array?\n",
        "\n",
        "The answer to question 3 is **no** for all array functions we will cover in this course. **All array functions return a new array**.\n",
        "\n",
        "| NumPy function | Description |\n",
        "| - | --- | \n",
        "| `np.average(arr)` <br/> `np.mean(arr)` | The average (i.e., mean) value of `arr` |\n",
        "| `np.sum(arr)` | The sum of all elements in `arr` |\n",
        "| `np.prod(arr)` | The product of all elements in `arr` | \n",
        "| `np.count_nonzero(arr)` | The number of elements in arr that are not equal to 0 |\n",
        "| `np.diff(arr)` | The difference between each element and the previous one value of `arr`. Returns an array of length 1 _less_ than the original. |\n",
        "| `np.cumsum(arr)` | The cumulative sum of all elements in `arr`. |\n",
        "| `np.sqrt(arr)` | The square roots of each element in `arr`.|\n",
        "| `np.log(arr)` | The natural logarithm of each element in `arr`. |\n",
        "| `np.log10(arr)` | The base-10 logarithm of each element in `arr`. |\n",
        ": A subset of NumPy array functions. A full reference is in the Data 6 reference sheet.\n",
        "\n",
        "Refer to the lecture notebook for example call expressions involving these NumPy functions. Refer to the **Data 6 reference sheet** for all functions we will expect you to be familiar with (not memorize!) in this course.\n",
        "\n",
        "\n",
        "## External Reading\n",
        "\n",
        "* (mentioned in notes) _Computational and Inferential Thinking_, [Ch 5.1](https://inferentialthinking.com/chapters/05/1/Arrays.html)\n",
        "* (optional) Tomas Beuzen. _Python Programming for Data Science_ [Ch 1.2](https://www.tomasbeuzen.com/python-programming-for-data-science/chapters/chapter1-basics.html#basic-python-data-types).\n",
        "\n",
        "## References\n",
        "\n",
        "U.S. Census Bureau, \"EDUCATIONAL ATTAINMENT,\" American Community Survey 5-Year Estimates Subject Tables, Table S1501, 2020, <https://data.census.gov/table/ACSST5Y2020.S1501?q=2020+education&t=Age+and+Sex:Educational+Attainment&g=010XX00US$0400000>, accessed on August 24, 2025."
      ],
      "id": "8a797e1d"
    }
  ],
  "metadata": {
    "kernelspec": {
      "name": "python3",
      "language": "python",
      "display_name": "Python 3 (ipykernel)",
      "path": "/Users/yanlisa/Library/Jupyter/kernels/python3"
    }
  },
  "nbformat": 4,
  "nbformat_minor": 5
}