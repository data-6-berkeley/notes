{
  "cells": [
    {
      "cell_type": "markdown",
      "metadata": {},
      "source": [
        "---\n",
        "title: \"Table Fundamentals\"\n",
        "subtitle: \"\"\n",
        "---\n",
        "\n",
        "::: {.callout-note title=\"Read _Inferential Thinking_\"}\n",
        " Read [Ch 6 intro](https://inferentialthinking.com/chapters/06/Tables.html), which describes the `Table` object type from the `datascience` library. \n",
        "\n",
        " This is a very dense chapter, as it has lots of Python syntax. We will review it in detail. Before moving on, we encourage you to focus on the following questions:\n",
        "\n",
        " 1. What is the _syntax_ of the `with_columns` method? How does this method make a table?\n",
        " 1. What are some table methods?\n",
        " 1. What Python expression gets you the number of rows? a specific column? (bonus) How does the syntax differ between these two cases?\n",
        ":::\n",
        "\n",
        "If you are new to programming, it is easy to get lost in the syntax of Python! For today, we will therefore focus on a few high-level goals:\n",
        "\n",
        "* How to translate your **existing critical thinking skills** and propensity for exploratory data analysis into algorithmic thinking with **`datascience` Tables**\n",
        "* How to read **Python documentation** to find what you want\n",
        "* How to **debug code systematically**\n",
        "\n",
        "In other words, you will **not be expected to memorize all aspects of Table**s (it's as if we have a theme in this class...)! But you will have natural impulses for understanding and working with tabular data, many of which directly map to specific Table methods and attributes. To write Python code, then, you will need to learn to work with documentation to do this translation, and—when the precise methods don't exist—construct new algorithms to achieve what you want. The more familiar you are with the documentation---and consequently, what is possible with `Table`s---the more you can focus on algorithmic thinking.\n",
        "\n",
        "\n",
        "::: {.callout-tip title=\"Documentation, documentation, documentation\"}\n",
        "\n",
        "This entire note revolves around getting used to using the documentation on the [Data 6 Python Reference](../reference.html) page. Keep that page open as you read this one!\n",
        "\n",
        ":::\n",
        "\n",
        "## Definitions\n",
        "To begin, recall the terminology we have been using to describe tables so far:\n",
        "\n",
        "* **Table**: Retangular data structure.\n",
        "  * **Columns** (vertical) correspond to **variables** (AKA features, or attributes) that measure and operationalize social concepts.\n",
        "  * **Rows** (horizontal) correspond to **records** (AKA entries), which are specific values of variables for a given individual, group, etc.---whatever your unit of analysis is. \n",
        "\n",
        "We work with the `datascience` package's `Table`."
      ],
      "id": "a5c03743"
    },
    {
      "cell_type": "code",
      "metadata": {},
      "source": [
        "from datascience import *\n",
        "import numpy as np"
      ],
      "id": "659e0fdc",
      "execution_count": null,
      "outputs": []
    },
    {
      "cell_type": "markdown",
      "metadata": {},
      "source": [
        "## Today's Dataset: Schools\n",
        "\n",
        "This lecture we will return to the dataset of public four-year colleges and universities in California ([Wikipedia](https://en.wikipedia.org/wiki/List_of_colleges_and_universities_in_California)).\n",
        "\n",
        "To work with this table, we first load it in from a file called `data/cal_unis.csv`."
      ],
      "id": "d295faca"
    },
    {
      "cell_type": "code",
      "metadata": {},
      "source": [
        "schools = Table.read_table('data/cal_unis.csv')"
      ],
      "id": "bf0f1ca2",
      "execution_count": null,
      "outputs": []
    },
    {
      "cell_type": "markdown",
      "metadata": {},
      "source": [
        "Let's break down what we meant by \"load it in\":\n",
        "* The right-hand-side of the assignment calls a function that returns a `datascience` `Table` **object** from the provided data file. \n",
        "* The left-hand-side of the assignment assigns this object to the Python name `schools`.\n",
        "* After this assignment statement, then we can use `schools` as the particular Table object that has the tabular data we want.\n",
        "\n",
        "Running the below cell evaluates `schools` and displays that tabular data to us:"
      ],
      "id": "bc0ad5fe"
    },
    {
      "cell_type": "code",
      "metadata": {},
      "source": [
        "schools"
      ],
      "id": "59ce95ea",
      "execution_count": null,
      "outputs": []
    },
    {
      "cell_type": "markdown",
      "metadata": {},
      "source": [
        "Let's get to exploring and understanding our tabular data!\n",
        "\n",
        "## Exercise 1: Find Table Dimensions\n",
        "\n",
        "First off: How many rows and columns are in our `schools` table?"
      ],
      "id": "c48e485e"
    },
    {
      "cell_type": "code",
      "metadata": {},
      "source": [
        "print(schools.num_rows)\n",
        "print(schools.num_columns)"
      ],
      "id": "0afb333f",
      "execution_count": null,
      "outputs": []
    },
    {
      "cell_type": "markdown",
      "metadata": {},
      "source": [
        "What variables are being recorded?"
      ],
      "id": "dce88417"
    },
    {
      "cell_type": "code",
      "metadata": {},
      "source": [
        "print(schools.labels)"
      ],
      "id": "8680028f",
      "execution_count": null,
      "outputs": []
    },
    {
      "cell_type": "markdown",
      "metadata": {},
      "source": [
        "We didn't conjure these expressions out of nowhere. Instead, we:\n",
        "\n",
        "1. Looked at the [Data 6 Python Reference](../reference.html) page\n",
        "1. Scrolled down to the \"Tables and Table Methods\" section\n",
        "1. Skimmed the reference until we found documentation that seemed close to what we want\n",
        "1. Translated the name `tbl` into `schools`.\n",
        "1. Tried it out\n",
        "\n",
        "Bonus: You'll notice the \"dot\" syntax for accessing these values, also known as table attributes. See the Bonus last section for a more detailed explanation of this programming terminology.\n",
        "\n",
        "## Column-First Paradigm\n",
        "\n",
        "Because columns represent variables, we will take a **column-first approach** to tables.\n",
        "\n",
        "To extract, delete, or make columns from a table named `tbl`:\n",
        "\n",
        "* `tbl.select(...)` returns a new table with a subset of columns.\n",
        "* `tbl.drop(...)` and returns a new table without a subset of columns\n",
        "* `tbl.with_columns(...)` returns a new table with additional new column(s)."
      ],
      "id": "11cca645"
    },
    {
      "cell_type": "code",
      "metadata": {},
      "source": [
        "schools.select('Name', 'Enrollment')"
      ],
      "id": "d029f022",
      "execution_count": null,
      "outputs": []
    },
    {
      "cell_type": "code",
      "metadata": {},
      "source": [
        "schools.drop('Founded', 'County')"
      ],
      "id": "59685f33",
      "execution_count": null,
      "outputs": []
    },
    {
      "cell_type": "markdown",
      "metadata": {},
      "source": [
        "**Note**: The above two cells were run in sequence. Each table method returns a new table, so our original table `schools` is unchanged.\n",
        "\n",
        "::: {.callout-tip title=\"Table methods return copies\"}\n",
        "All table methods return **copies of information** from the original table! This paradigm is quite useful for data analysis. From _Inferential Thinking_: \n",
        "\n",
        "> [Table methods] create new smaller tables that share the same data. The fact that the original table is preserved is useful! You can generate multiple different tables that only consider certain columns without worrying that one analysis will affect the other.\n",
        ":::\n",
        "\n",
        "### Modifying Tables\n",
        "\n",
        "If we would like to modify the original table, then we must re-assign `schools` to the new return value:"
      ],
      "id": "30c568a0"
    },
    {
      "cell_type": "code",
      "metadata": {},
      "source": [
        "schools = schools.with_columns(\n",
        "    \"Years since founding\",\n",
        "    2025 - schools.column(\"Founded\")\n",
        ")\n",
        "schools"
      ],
      "id": "65d853e5",
      "execution_count": null,
      "outputs": []
    },
    {
      "cell_type": "markdown",
      "metadata": {},
      "source": [
        "## Filtering Rows\n",
        "\n",
        "Often we would like to perform row  **filtering**, where we only extract row entries that match a specific **feature**.\n",
        "\n",
        "By **exact match**: `tbl.where(column, value)`. Create a new table of only the rows where column `column` matches the value `value`. "
      ],
      "id": "755938aa"
    },
    {
      "cell_type": "code",
      "metadata": {},
      "source": [
        "schools.where(\"Institution\", \"UC\")"
      ],
      "id": "98a51986",
      "execution_count": null,
      "outputs": []
    },
    {
      "cell_type": "markdown",
      "metadata": {},
      "source": [
        "By **index**: `tbl.take(row_indices)`. Create a new table of only the rows with an index specified in `row_indices`."
      ],
      "id": "a80e6f2b"
    },
    {
      "cell_type": "code",
      "metadata": {},
      "source": [
        "schools.take(1, 3, 5)"
      ],
      "id": "5a0a9031",
      "execution_count": null,
      "outputs": []
    },
    {
      "cell_type": "markdown",
      "metadata": {},
      "source": [
        "Are rows zero-indexed or one-indexed? Why?\n",
        "\n",
        "## Creating New Tables\n",
        "\n",
        "So far we've used a table with pre-existing data. We can also make **new Tables** with a special function: `Table()`."
      ],
      "id": "2256e761"
    },
    {
      "cell_type": "code",
      "metadata": {},
      "source": [
        "Table()"
      ],
      "id": "6b5c65ea",
      "execution_count": null,
      "outputs": []
    },
    {
      "cell_type": "markdown",
      "metadata": {},
      "source": [
        "Check it out!!!"
      ],
      "id": "df856f8b"
    },
    {
      "cell_type": "code",
      "metadata": {},
      "source": [
        "states = Table().with_columns('State', np.array(['California', 'New York', 'Florida', 'Texas', 'Pennsylvania']),'Code', np.array(['CA', 'NY', 'FL', 'TX', 'PA']), 'Population (millions)', np.array([39.3, 19.3, 21.7, 29.3, 12.8]))\n",
        "states"
      ],
      "id": "e533a80e",
      "execution_count": null,
      "outputs": []
    },
    {
      "cell_type": "markdown",
      "metadata": {},
      "source": [
        "...unfortunately, due to poor coding style, the above code is quite unreadable. Let's use whitespace (new lines and indents) to delineate what we are doing:"
      ],
      "id": "13cbf983"
    },
    {
      "cell_type": "code",
      "metadata": {},
      "source": [
        "states = Table().with_columns(\n",
        "  'State', np.array(['California', 'New York', 'Florida', 'Texas', 'Pennsylvania']),\n",
        "  'Code', np.array(['CA', 'NY', 'FL', 'TX', 'PA']),\n",
        "  'Population (millions)', np.array([39.3, 19.3, 21.7, 29.3, 12.8])\n",
        ")\n",
        "states"
      ],
      "id": "3d725807",
      "execution_count": null,
      "outputs": []
    },
    {
      "cell_type": "markdown",
      "metadata": {},
      "source": [
        "### Method Chaining\n",
        "\n",
        "**Method chaining** in Python is when the object returned from one method becomes the object to use in the next method. In this case:\n",
        "\n",
        "1. Calling the `Table` returns an empty table.\n",
        "1. The method `with_columns` is called on the empty table object, returning a table with the columns State, Code, and Population.\n",
        "1. This return value is then assigned to `states`.\n",
        "\n",
        "::: {.callout-tip title=\"Whitespace formatting\"}\n",
        "Note the closed parenthesis on the final line. This helps \"match\" parentheses together.\n",
        ":::\n",
        "\n",
        "## Bonus: Methods vs. Attributes\n",
        "\n",
        "Return to the third focus question from the _Inferential Thinking_ reading.\n",
        "\n",
        "> What Python expression gets you the number of rows? a specific column? (bonus) How does the syntax differ between these two cases?\n",
        "\n",
        "The textbook wording \"overloads\" two different Python syntax constructs. From the Python glossary:\n",
        "\n",
        "\n",
        "::: {.callout-note title=\"Attribute\"}\n",
        "\n",
        "[**Attribute**](https://docs.python.org/3/glossary.html#term-attribute): A value associated with an object which is usually referenced by name using dotted expressions. For example, if an object _o_ has an attribute _a_ it would be referenced as _o.a_. \n",
        "\n",
        "In other words, attributes are named values tied to specific objects. To get these values, we must refer to them by their name using \"dot\" syntax.\n",
        "\n",
        ":::"
      ],
      "id": "4a75775c"
    },
    {
      "cell_type": "code",
      "metadata": {},
      "source": [
        "schools.num_rows"
      ],
      "id": "62d3f35f",
      "execution_count": null,
      "outputs": []
    },
    {
      "cell_type": "markdown",
      "metadata": {},
      "source": [
        "::: {.callout-note title=\"Method\"}\n",
        "\n",
        "[**Method**](https://docs.python.org/3/glossary.html#term-method) A function which is defined inside a class body.\n",
        "\n",
        "The Python glossary definition above is a more opaque definition than we would like. But you can think of the methods we study in this class as functions that take into account the attributes and values of specific objects. In order to call them on a specific operation, we also use \"dot\" syntax. Because they are functions, we must use call expression syntax with parenthesis, and provide arguments as needed.\n",
        "\n",
        ":::"
      ],
      "id": "d3815e66"
    },
    {
      "cell_type": "code",
      "metadata": {},
      "source": [
        "schools.column(\"Enrollment\")"
      ],
      "id": "35efad64",
      "execution_count": null,
      "outputs": []
    },
    {
      "cell_type": "markdown",
      "metadata": {},
      "source": [
        "**Which to syntax use**? To determine which \"dot\" syntax to use, read the documentation. The entire `Table` class has been defined for us already, and the designers of the `datascience` package have predetermined which table features make sense to have as attributes, and which  features make sense to return as values from a method call. But as a rule of thumb, if you need to specify any additional detail to get what you want, you will likely need to call a function: use table methods and pass in arguments. See the `column` method call above.\n",
        "\n",
        "Another key indicator is what happens when you use incorrect syntax:"
      ],
      "id": "2992c22e"
    },
    {
      "cell_type": "code",
      "metadata": {},
      "source": [
        "#| error: true\n",
        "schools.num_rows()"
      ],
      "id": "bf4c8db7",
      "execution_count": null,
      "outputs": []
    },
    {
      "cell_type": "code",
      "metadata": {},
      "source": [
        "schools.column"
      ],
      "id": "23cf8d0a",
      "execution_count": null,
      "outputs": []
    },
    {
      "cell_type": "markdown",
      "metadata": {},
      "source": [
        "...hopefully not that scary!"
      ],
      "id": "034f4df4"
    }
  ],
  "metadata": {
    "kernelspec": {
      "name": "python3",
      "language": "python",
      "display_name": "Python 3 (ipykernel)",
      "path": "/Users/yanlisa/Library/Jupyter/kernels/python3"
    }
  },
  "nbformat": 4,
  "nbformat_minor": 5
}